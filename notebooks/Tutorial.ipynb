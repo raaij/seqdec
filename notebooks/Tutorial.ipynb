{
 "cells": [
  {
   "cell_type": "code",
   "execution_count": 1,
   "id": "3eb49df7",
   "metadata": {},
   "outputs": [],
   "source": [
    "from bandits import EpsilonGreedyBandit\n",
    "from bandits.simulator import BernoulliSimulator"
   ]
  },
  {
   "cell_type": "code",
   "execution_count": 2,
   "id": "fc90c22e",
   "metadata": {},
   "outputs": [],
   "source": [
    "import numpy as np"
   ]
  },
  {
   "cell_type": "code",
   "execution_count": 3,
   "id": "7559cc24",
   "metadata": {},
   "outputs": [],
   "source": [
    "K = 5\n",
    "\n",
    "sim = BernoulliSimulator(K)\n",
    "bandit = EpsilonGreedyBandit(epsilon=0.1, sim=sim)"
   ]
  },
  {
   "cell_type": "code",
   "execution_count": 4,
   "id": "4701ce78",
   "metadata": {},
   "outputs": [],
   "source": [
    "bandit.run()"
   ]
  },
  {
   "cell_type": "code",
   "execution_count": 5,
   "id": "3ece3921",
   "metadata": {},
   "outputs": [
    {
     "data": {
      "text/plain": [
       "array([0.92820181, 0.265625  , 0.22751323, 0.22619048, 0.58285714])"
      ]
     },
     "execution_count": 5,
     "metadata": {},
     "output_type": "execute_result"
    }
   ],
   "source": [
    "bandit.q"
   ]
  },
  {
   "cell_type": "code",
   "execution_count": 6,
   "id": "9a4ef8a5",
   "metadata": {},
   "outputs": [
    {
     "data": {
      "text/plain": [
       "array([0.92961609, 0.31637555, 0.18391881, 0.20456028, 0.56772503])"
      ]
     },
     "execution_count": 6,
     "metadata": {},
     "output_type": "execute_result"
    }
   ],
   "source": [
    "sim.proba"
   ]
  }
 ],
 "metadata": {
  "kernelspec": {
   "display_name": "Python 3 (ipykernel)",
   "language": "python",
   "name": "python3"
  },
  "language_info": {
   "codemirror_mode": {
    "name": "ipython",
    "version": 3
   },
   "file_extension": ".py",
   "mimetype": "text/x-python",
   "name": "python",
   "nbconvert_exporter": "python",
   "pygments_lexer": "ipython3",
   "version": "3.10.4"
  }
 },
 "nbformat": 4,
 "nbformat_minor": 5
}
