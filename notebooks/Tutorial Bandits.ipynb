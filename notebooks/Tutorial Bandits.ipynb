{
 "cells": [
  {
   "cell_type": "code",
   "execution_count": 1,
   "id": "3eb49df7",
   "metadata": {},
   "outputs": [],
   "source": [
    "from seqdec.bandits import EpsilonGreedyBandit, UCBBandit\n",
    "from seqdec.simulator import MultivariateWebsiteLayout"
   ]
  },
  {
   "cell_type": "code",
   "execution_count": 2,
   "id": "fc90c22e",
   "metadata": {},
   "outputs": [],
   "source": [
    "import numpy as np"
   ]
  },
  {
   "cell_type": "code",
   "execution_count": 3,
   "id": "7559cc24",
   "metadata": {},
   "outputs": [],
   "source": [
    "L = 5\n",
    "n = (2, 2, 3)\n",
    "α = (2, 1, 0)\n",
    "\n",
    "\n",
    "sim = MultivariateWebsiteLayout(\n",
    "    number_of_context_variables=L,\n",
    "    number_of_widget_variations=n,\n",
    "    alpha=α\n",
    ")\n",
    "bandit = EpsilonGreedyBandit(epsilon=0.1, sim=sim)"
   ]
  },
  {
   "cell_type": "code",
   "execution_count": 4,
   "id": "4701ce78",
   "metadata": {
    "scrolled": false
   },
   "outputs": [],
   "source": [
    "bandit.run()"
   ]
  },
  {
   "cell_type": "code",
   "execution_count": 5,
   "id": "3ece3921",
   "metadata": {},
   "outputs": [
    {
     "data": {
      "text/plain": [
       "array([0.51351351, 0.54385965, 0.54902847, 0.53873239, 0.49425287,\n",
       "       0.52666667, 0.40816327])"
      ]
     },
     "execution_count": 5,
     "metadata": {},
     "output_type": "execute_result"
    }
   ],
   "source": [
    "bandit.q"
   ]
  },
  {
   "cell_type": "code",
   "execution_count": 6,
   "id": "d2589304",
   "metadata": {},
   "outputs": [],
   "source": [
    "bandit = UCBBandit(sim=sim)\n",
    "bandit.run()"
   ]
  },
  {
   "cell_type": "code",
   "execution_count": 7,
   "id": "5479c430",
   "metadata": {},
   "outputs": [
    {
     "data": {
      "text/plain": [
       "array([0.52363636, 0.55143457, 0.53521878, 0.50442478, 0.48991354,\n",
       "       0.53796844, 0.41947566])"
      ]
     },
     "execution_count": 7,
     "metadata": {},
     "output_type": "execute_result"
    }
   ],
   "source": [
    "bandit.q"
   ]
  }
 ],
 "metadata": {
  "kernelspec": {
   "display_name": "Python 3 (ipykernel)",
   "language": "python",
   "name": "python3"
  },
  "language_info": {
   "codemirror_mode": {
    "name": "ipython",
    "version": 3
   },
   "file_extension": ".py",
   "mimetype": "text/x-python",
   "name": "python",
   "nbconvert_exporter": "python",
   "pygments_lexer": "ipython3",
   "version": "3.10.4"
  }
 },
 "nbformat": 4,
 "nbformat_minor": 5
}
