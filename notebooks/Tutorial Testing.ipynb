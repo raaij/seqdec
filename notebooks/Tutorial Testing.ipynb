{
 "cells": [
  {
   "cell_type": "code",
   "execution_count": 1,
   "id": "b2630a0e",
   "metadata": {},
   "outputs": [],
   "source": [
    "from seqdec.simulator import BernoulliSimulator\n",
    "from seqdec.tests import FisherExactTest"
   ]
  },
  {
   "cell_type": "code",
   "execution_count": 2,
   "id": "8d24e69e",
   "metadata": {},
   "outputs": [],
   "source": [
    "sim = BernoulliSimulator(2, p=[0.5, 0.5])"
   ]
  },
  {
   "cell_type": "code",
   "execution_count": 3,
   "id": "d01ca210",
   "metadata": {},
   "outputs": [],
   "source": [
    "test = FisherExactTest(sim, alpha=0.05)"
   ]
  },
  {
   "cell_type": "code",
   "execution_count": 4,
   "id": "0d900120",
   "metadata": {},
   "outputs": [
    {
     "name": "stdout",
     "output_type": "stream",
     "text": [
      "H_0: u_A = u_B\n",
      "H_1: u_A != u_B\n",
      "p value is 0.53526\n",
      "with significance level 0.05\n",
      "we fail to reject the null hypothesis\n"
     ]
    }
   ],
   "source": [
    "test.run()"
   ]
  },
  {
   "cell_type": "code",
   "execution_count": 5,
   "id": "1eec8bda",
   "metadata": {},
   "outputs": [],
   "source": [
    "sim = BernoulliSimulator(2, p=[0.5, 0.53])"
   ]
  },
  {
   "cell_type": "code",
   "execution_count": 6,
   "id": "3db53031",
   "metadata": {},
   "outputs": [],
   "source": [
    "test = FisherExactTest(sim, alpha=0.05)"
   ]
  },
  {
   "cell_type": "code",
   "execution_count": 7,
   "id": "dfde91b3",
   "metadata": {},
   "outputs": [
    {
     "name": "stdout",
     "output_type": "stream",
     "text": [
      "H_0: u_A = u_B\n",
      "H_1: u_A != u_B\n",
      "p value is 0.04994\n",
      "with significance level 0.05\n",
      "we reject the null hypothesis\n"
     ]
    }
   ],
   "source": [
    "test.run()"
   ]
  }
 ],
 "metadata": {
  "kernelspec": {
   "display_name": "Python 3 (ipykernel)",
   "language": "python",
   "name": "python3"
  },
  "language_info": {
   "codemirror_mode": {
    "name": "ipython",
    "version": 3
   },
   "file_extension": ".py",
   "mimetype": "text/x-python",
   "name": "python",
   "nbconvert_exporter": "python",
   "pygments_lexer": "ipython3",
   "version": "3.10.4"
  }
 },
 "nbformat": 4,
 "nbformat_minor": 5
}
